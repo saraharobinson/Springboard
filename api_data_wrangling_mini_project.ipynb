{
 "cells": [
  {
   "cell_type": "markdown",
   "metadata": {},
   "source": [
    "This exercise will require you to pull some data from the Qunadl API. Qaundl is currently the most widely used aggregator of financial market data."
   ]
  },
  {
   "cell_type": "markdown",
   "metadata": {},
   "source": [
    "As a first step, you will need to register a free account on the http://www.quandl.com website."
   ]
  },
  {
   "cell_type": "markdown",
   "metadata": {},
   "source": [
    "After you register, you will be provided with a unique API key, that you should store:"
   ]
  },
  {
   "cell_type": "code",
   "execution_count": 7,
   "metadata": {},
   "outputs": [],
   "source": [
    "# Store the API key as a string - according to PEP8, constants are always named in all upper case\n",
    "API_KEY = "
   ]
  },
  {
   "cell_type": "markdown",
   "metadata": {},
   "source": [
    "Qaundl has a large number of data sources, but, unfortunately, most of them require a Premium subscription. Still, there are also a good number of free datasets."
   ]
  },
  {
   "cell_type": "markdown",
   "metadata": {},
   "source": [
    "For this mini project, we will focus on equities data from the Frankfurt Stock Exhange (FSE), which is available for free. We'll try and analyze the stock prices of a company called Carl Zeiss Meditec, which manufactures tools for eye examinations, as well as medical lasers for laser eye surgery: https://www.zeiss.com/meditec/int/home.html. The company is listed under the stock ticker AFX_X."
   ]
  },
  {
   "cell_type": "markdown",
   "metadata": {},
   "source": [
    "You can find the detailed Quandl API instructions here: https://docs.quandl.com/docs/time-series"
   ]
  },
  {
   "cell_type": "markdown",
   "metadata": {},
   "source": [
    "While there is a dedicated Python package for connecting to the Quandl API, we would prefer that you use the *requests* package, which can be easily downloaded using *pip* or *conda*. You can find the documentation for the package here: http://docs.python-requests.org/en/master/ "
   ]
  },
  {
   "cell_type": "markdown",
   "metadata": {},
   "source": [
    "Finally, apart from the *requests* package, you are encouraged to not use any third party Python packages, such as *pandas*, and instead focus on what's available in the Python Standard Library (the *collections* module might come in handy: https://pymotw.com/3/collections/).\n",
    "Also, since you won't have access to DataFrames, you are encouraged to us Python's native data structures - preferably dictionaries, though some questions can also be answered using lists.\n",
    "You can read more on these data structures here: https://docs.python.org/3/tutorial/datastructures.html"
   ]
  },
  {
   "cell_type": "markdown",
   "metadata": {},
   "source": [
    "Keep in mind that the JSON responses you will be getting from the API map almost one-to-one to Python's dictionaries. Unfortunately, they can be very nested, so make sure you read up on indexing dictionaries in the documentation provided above."
   ]
  },
  {
   "cell_type": "code",
   "execution_count": 134,
   "metadata": {},
   "outputs": [],
   "source": [
    "# First, import the relevant modules\n",
    "import requests\n",
    "import collections\n"
   ]
  },
  {
   "cell_type": "code",
   "execution_count": 26,
   "metadata": {},
   "outputs": [
    {
     "name": "stdout",
     "output_type": "stream",
     "text": [
      "[(u'dataset_data', {u'column_names': [u'Date', u'Open', u'High', u'Low', u'Close', u'Change', u'Traded Volume', u'Turnover', u'Last Price of the Day', u'Daily Traded Units', u'Daily Turnover'], u'collapse': None, u'end_date': u'2017-01-02', u'transform': None, u'order': None, u'frequency': u'daily', u'limit': None, u'column_index': None, u'data': [[u'2017-01-02', 34.99, 35.94, 34.99, 35.8, None, 44700.0, 1590561.0, None, None, None]], u'start_date': u'2017-01-01'})]\n",
      "<type 'dict'>\n"
     ]
    }
   ],
   "source": [
    "# Now, call the Quandl API and pull out a small sample of the data (only one day) to get a glimpse\n",
    "# into the JSON structure that will be returned\n",
    "url = \"https://www.quandl.com/api/v3/datasets/FSE/AFX_X/data.json?start_date=2017-01-01&end_date=2017-01-02&api_key=\"\n",
    "r = requests.get(url+API_KEY)\n",
    "json_data_day = r.json()\n",
    "print(json_data_day.items())\n",
    "print(type(json_data_day))"
   ]
  },
  {
   "cell_type": "code",
   "execution_count": 27,
   "metadata": {},
   "outputs": [
    {
     "name": "stdout",
     "output_type": "stream",
     "text": [
      "[u'Date', u'Open', u'High', u'Low', u'Close', u'Change', u'Traded Volume', u'Turnover', u'Last Price of the Day', u'Daily Traded Units', u'Daily Turnover']\n"
     ]
    }
   ],
   "source": [
    "# Inspect the JSON structure of the object you created, and take note of how nested it is,\n",
    "# as well as the overall structure\n",
    "print(r.json()['dataset_data']['column_names'])"
   ]
  },
  {
   "cell_type": "markdown",
   "metadata": {},
   "source": [
    "These are your tasks for this mini project:\n",
    "\n",
    "1. Collect data from the Franfurt Stock Exchange, for the ticker AFX_X, for the whole year 2017 (keep in mind that the date format is YYYY-MM-DD).\n",
    "2. Convert the returned JSON object into a Python dictionary.\n",
    "3. Calculate what the highest and lowest opening prices were for the stock in this period.\n",
    "4. What was the largest change in any one day (based on High and Low price)?\n",
    "5. What was the largest change between any two days (based on Closing Price)?\n",
    "6. What was the average daily trading volume during this year?\n",
    "7. (Optional) What was the median trading volume during this year. (Note: you may need to implement your own function for calculating the median.)"
   ]
  },
  {
   "cell_type": "code",
   "execution_count": 30,
   "metadata": {},
   "outputs": [],
   "source": [
    "# 1. Collect data from FSE for AFX_X for the whole year 2017\n",
    "url = \"https://www.quandl.com/api/v3/datasets/FSE/AFX_X/data.json?start_date=2017-01-01&end_date=2017-12-31&api_key=\"\n",
    "r = requests.get(url+API_KEY)\n",
    "\n"
   ]
  },
  {
   "cell_type": "code",
   "execution_count": 31,
   "metadata": {},
   "outputs": [
    {
     "name": "stdout",
     "output_type": "stream",
     "text": [
      "<type 'dict'>\n"
     ]
    }
   ],
   "source": [
    "# 2. Convert the returned JSON object into a Python dictionary\n",
    "json_data = r.json()\n",
    "print(type(json_data))\n",
    "\n",
    "#this seems to easy... "
   ]
  },
  {
   "cell_type": "code",
   "execution_count": 86,
   "metadata": {},
   "outputs": [
    {
     "name": "stdout",
     "output_type": "stream",
     "text": [
      "The highest opening price was:\n",
      "53.11\n",
      "The lowest opening price was:\n",
      "34.0\n"
     ]
    }
   ],
   "source": [
    "# 3. Calculate what the highest and lowest opening prices were for the stock in this period.\n",
    "\n",
    "#highest\n",
    "stock_data = json_data['dataset_data']['data']\n",
    "type(stock_data)\n",
    "max_open = None\n",
    "for i in stock_data:\n",
    "    if i[1] > max_open: max_open = i[1]\n",
    "\n",
    "print('The highest opening price was:') \n",
    "print(max_open)\n",
    "\n",
    "#lowest using a list comprehension\n",
    "opening_prices = [i[1] for i in stock_data if i[1]!= None]\n",
    "min_open = min(opening_prices)\n",
    "\n",
    "print('The lowest opening price was:')\n",
    "print(min_open)"
   ]
  },
  {
   "cell_type": "code",
   "execution_count": null,
   "metadata": {},
   "outputs": [],
   "source": [
    "# 4. What was the largest change in any one day (based on High and Low price)?"
   ]
  },
  {
   "cell_type": "code",
   "execution_count": 133,
   "metadata": {},
   "outputs": [],
   "source": [
    "#to make finding data more intuitive from here on out, I created nested dictionary  {date:{column_name: data}\n",
    "column_names = json_data['dataset_data']['column_names']\n",
    "named_dict = {}\n",
    "max_change = None\n",
    "for lists in stock_data:\n",
    "    named_dict[lists[0]] = dict(zip(column_names, lists))"
   ]
  },
  {
   "cell_type": "code",
   "execution_count": 172,
   "metadata": {},
   "outputs": [
    {
     "name": "stdout",
     "output_type": "stream",
     "text": [
      "The largest change in one day was:\n",
      "-0.44\n"
     ]
    }
   ],
   "source": [
    "#used list comprehension to make list of changes\n",
    "changes = [value['Change'] for key, value in named_dict.items() if value['Change']!= None]\n",
    "max_change = max(changes, key = abs)\n",
    "\n",
    "print('The largest change in one day was:')\n",
    "print(max_change)"
   ]
  },
  {
   "cell_type": "code",
   "execution_count": 173,
   "metadata": {},
   "outputs": [],
   "source": [
    "#5. What was the largest change between any two days (based on Closing Price)?\n",
    "#...so does this mean the difference between the closing price one day and the closing price on the next? "
   ]
  },
  {
   "cell_type": "code",
   "execution_count": 210,
   "metadata": {},
   "outputs": [],
   "source": [
    "dates_od = collections.OrderedDict(sorted(named_dict.items()))"
   ]
  },
  {
   "cell_type": "code",
   "execution_count": 223,
   "metadata": {},
   "outputs": [
    {
     "name": "stdout",
     "output_type": "stream",
     "text": [
      "The largest change in closing price over two days was\n",
      "-2.56\n"
     ]
    }
   ],
   "source": [
    "#create list of closing prices\n",
    "closing = [value['Close'] for key, value in dates_od.items() if value['Close']!=None]\n",
    "day_changes = []\n",
    "for i, value in enumerate(closing):\n",
    "    if i > 0:\n",
    "        day_changes.append(closing[i]-closing[i-1])\n",
    "\n",
    "print('The largest change in closing price over two days was')\n",
    "print(max(day_changes, key=abs))"
   ]
  },
  {
   "cell_type": "code",
   "execution_count": 231,
   "metadata": {},
   "outputs": [
    {
     "name": "stdout",
     "output_type": "stream",
     "text": [
      "The average daily trading volume during 2017 was:\n",
      "89124.3372549\n"
     ]
    }
   ],
   "source": [
    "# 6.What was the average daily trading volume during this year?\n",
    "trade_vol = [value['Traded Volume'] for key, value in dates_od.items() if value['Traded Volume']!=None]\n",
    "avg_vol = sum(trade_vol)/len(trade_vol)\n",
    "print('The average daily trading volume during 2017 was:')\n",
    "print(avg_vol)"
   ]
  },
  {
   "cell_type": "code",
   "execution_count": 237,
   "metadata": {},
   "outputs": [
    {
     "name": "stdout",
     "output_type": "stream",
     "text": [
      "The median trading volume during 2017 was:\n",
      "76600.0\n"
     ]
    }
   ],
   "source": [
    "# 7. (Optional) What was the median trading volume during this year. \n",
    "#(Note: you may need to implement your own function for calculating the median.)\n",
    "\n",
    "def median(L):\n",
    "    L = sorted(L)\n",
    "    if len(L)%2 != 0:\n",
    "        mid = (len(L)+1)/2\n",
    "        M = L[mid]\n",
    "    else: \n",
    "        mid1 = len(L)/2\n",
    "        mid2 = mid1+1\n",
    "        M = (L[mid1]+ L[mid2])/2\n",
    "    return M\n",
    "print('The median trading volume during 2017 was:')\n",
    "print(median(trade_vol))"
   ]
  }
 ],
 "metadata": {
  "kernelspec": {
   "display_name": "Python 2",
   "language": "python",
   "name": "python2"
  },
  "language_info": {
   "codemirror_mode": {
    "name": "ipython",
    "version": 2
   },
   "file_extension": ".py",
   "mimetype": "text/x-python",
   "name": "python",
   "nbconvert_exporter": "python",
   "pygments_lexer": "ipython2",
   "version": "2.7.14"
  }
 },
 "nbformat": 4,
 "nbformat_minor": 2
}
