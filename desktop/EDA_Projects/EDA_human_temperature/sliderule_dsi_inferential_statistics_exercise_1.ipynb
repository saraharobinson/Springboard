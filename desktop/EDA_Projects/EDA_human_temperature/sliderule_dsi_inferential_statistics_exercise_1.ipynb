{
 "cells": [
  {
   "cell_type": "markdown",
   "metadata": {},
   "source": [
    "# What is the True Normal Human Body Temperature? \n",
    "\n",
    "Sarah Robinson\n",
    "9.11.18\n",
    "\n",
    "[*solutions inline*]\n",
    "\n",
    "#### Background\n",
    "\n",
    "The mean normal body temperature was held to be 37$^{\\circ}$C or 98.6$^{\\circ}$F for more than 120 years since it was first conceptualized and reported by Carl Wunderlich in a famous 1868 book. But, is this value statistically correct?"
   ]
  },
  {
   "cell_type": "markdown",
   "metadata": {},
   "source": [
    "<h3>Exercises</h3>\n",
    "\n",
    "<p>In this exercise, you will analyze a dataset of human body temperatures and employ the concepts of hypothesis testing, confidence intervals, and statistical significance.</p>\n",
    "\n",
    "<p>Answer the following questions <b>in this notebook below and submit to your Github account</b>.</p> \n",
    "\n",
    "<ol>"
   ]
  },
  {
   "cell_type": "markdown",
   "metadata": {},
   "source": [
    "## 1. Is the distribution of body temperatures normal? \n",
    "* Although this is not a requirement for the Central Limit Theorem to hold (read the introduction on Wikipedia's page about the CLT carefully: https://en.wikipedia.org/wiki/Central_limit_theorem), it gives us some peace of mind that the population may also be normally distributed if we assume that this sample is representative of the population.\n",
    "\n",
    "* Think about the way you're going to check for the normality of the distribution. Graphical methods are usually used first, but there are also other ways: https://en.wikipedia.org/wiki/Normality_test\n"
   ]
  },
  {
   "cell_type": "code",
   "execution_count": 59,
   "metadata": {},
   "outputs": [],
   "source": [
    "import pandas as pd\n",
    "import numpy as np\n",
    "import matplotlib.pyplot as plt\n",
    "import seaborn as sns\n",
    "from scipy import stats"
   ]
  },
  {
   "cell_type": "code",
   "execution_count": 32,
   "metadata": {},
   "outputs": [],
   "source": [
    "temp_df = pd.read_csv('../EDA_human_temperature/data/human_body_temperature.csv')"
   ]
  },
  {
   "cell_type": "code",
   "execution_count": 44,
   "metadata": {},
   "outputs": [],
   "source": [
    "body_temp = temp_df.temperature.values"
   ]
  },
  {
   "cell_type": "markdown",
   "metadata": {},
   "source": [
    "### Testing Normality: Graphically"
   ]
  },
  {
   "cell_type": "code",
   "execution_count": 54,
   "metadata": {},
   "outputs": [],
   "source": [
    "#create cdf function\n",
    "def ecdf(data):\n",
    "    \"\"\"Compute ECDF for a one-dimensional array of measurements.\"\"\"\n",
    "    n = len(data)\n",
    "    x = np.sort(data)\n",
    "    y = np.arange(1, n+1) / float(n)\n",
    "    \n",
    "    return(x, y)"
   ]
  },
  {
   "cell_type": "code",
   "execution_count": 57,
   "metadata": {},
   "outputs": [],
   "source": [
    "#compute cdf\n",
    "mean = np.mean(body_temp)\n",
    "std=np.std(body_temp)\n",
    "samples = np.random.normal(mean, std, size=10000)\n",
    "x, y = ecdf(body_temp)\n",
    "x_theor, y_theor = ecdf(samples)\n"
   ]
  },
  {
   "cell_type": "code",
   "execution_count": 130,
   "metadata": {},
   "outputs": [
    {
     "data": {
      "image/png": "[encoded data removed]",
      "text/plain": [
       "<Figure size 432x288 with 2 Axes>"
      ]
     },
     "metadata": {},
     "output_type": "display_data"
    }
   ],
   "source": [
    "#plot histogram\n",
    "sns.set()\n",
    "_ = plt.subplot(1, 2, 1)\n",
    "_ = plt.hist(body_temp, bins = 10, density=True)\n",
    "_ = plt.xlabel('Body Temp')\n",
    "_ = plt.ylabel('PDF')\n",
    "\n",
    "\n",
    "#plot cdf\n",
    "_ = plt.subplot(1,2,2)\n",
    "_= plt.plot(x_theor, y_theor)\n",
    "_ = plt.plot(x, y, marker = '.', linestyle = 'none')\n",
    "_ = plt.xlabel('Body Temp')\n",
    "_ = plt.ylabel('CDF')\n",
    "_ = plt.tight_layout()\n",
    "plt.show()"
   ]
  },
  {
   "cell_type": "markdown",
   "metadata": {},
   "source": [
    "*Looks pretty normal to me, but will use a normality test to be sure.*"
   ]
  },
  {
   "cell_type": "markdown",
   "metadata": {},
   "source": [
    "### Calculating Normality\n",
    "H0: The sample comes from a normal distribution.\n"
   ]
  },
  {
   "cell_type": "code",
   "execution_count": 134,
   "metadata": {},
   "outputs": [
    {
     "name": "stdout",
     "output_type": "stream",
     "text": [
      "The null hypothesis cannot be rejected.\n",
      "p = 0.2587479863488254\n"
     ]
    }
   ],
   "source": [
    "#use normality test\n",
    "alpha = 0.05\n",
    "k2, p = stats.normaltest(body_temp)\n",
    "if p < alpha:\n",
    "    print(\"The null hypothesis can be rejected.\")\n",
    "else: \n",
    "    print(\"The null hypothesis cannot be rejected.\")\n",
    "print(\"p = \"+ str(p))"
   ]
  },
  {
   "cell_type": "markdown",
   "metadata": {},
   "source": [
    "## 2. Is the sample size large? Are the observations independent?\n",
    "* Remember that this is a condition for the Central Limit Theorem, and hence the statistical tests we are using, to apply.\n"
   ]
  },
  {
   "cell_type": "code",
   "execution_count": 136,
   "metadata": {},
   "outputs": [
    {
     "name": "stdout",
     "output_type": "stream",
     "text": [
      "The sample size is 130\n"
     ]
    }
   ],
   "source": [
    "print(\"The sample size is \" + str(len(temp_df)))"
   ]
  },
  {
   "cell_type": "markdown",
   "metadata": {},
   "source": [
    "*The sample size is large enough (n > 30 ) to apply the central limit theorem for analysis.The observations are independant, since one persons body temperature does not control anothers.*  "
   ]
  },
  {
   "cell_type": "markdown",
   "metadata": {},
   "source": [
    " ## 3. Is the true population mean really 98.6 degrees F?\n",
    "* First, try a bootstrap hypothesis test.\n",
    "*  Now, let's try frequentist statistical testing. Would you use a one-sample or two-sample test? Why?\n",
    "* In this situation, is it appropriate to use the $t$ or $z$ statistic? \n",
    "* Now try using the other test. How is the result be different? Why?\n"
   ]
  },
  {
   "cell_type": "markdown",
   "metadata": {},
   "source": [
    "### Hypothesis Testing: \n",
    "H0: The true mean is 98.6 degrees F.\n",
    "\n",
    "alpha = 0.05"
   ]
  },
  {
   "cell_type": "markdown",
   "metadata": {},
   "source": [
    " **Bootstrap hypothesis test:** \n",
    "null hypothesis - the true mean of Wunderlich's observations is 98.6 degrees F."
   ]
  },
  {
   "cell_type": "code",
   "execution_count": 72,
   "metadata": {},
   "outputs": [],
   "source": [
    "#define bootstrap replicates function\n",
    "def draw_bs_reps(data, func, size = 1):\n",
    "    \"\"\"Draw bootstap replicates.\"\"\"\n",
    "    bs_replicates = np.empty(size)\n",
    "    \n",
    "    \n",
    "    for i in range(size):\n",
    "        bs_replicates[i] = func(np.random.choice(data, size = len(data)))\n",
    "    \n",
    "    return bs_replicates"
   ]
  },
  {
   "cell_type": "code",
   "execution_count": 73,
   "metadata": {},
   "outputs": [],
   "source": [
    "#shift the mean\n",
    "accepted_mean = 98.6\n",
    "wunder_mean = np.mean(body_temp)\n",
    "wunder_shifted = body_temp - wunder_mean + accepted_mean"
   ]
  },
  {
   "cell_type": "code",
   "execution_count": 80,
   "metadata": {},
   "outputs": [
    {
     "name": "stdout",
     "output_type": "stream",
     "text": [
      "-0.35076923076924515\n"
     ]
    }
   ],
   "source": [
    "#calculate test statistic\n",
    "def calc_diff(data, accepted_mean = 98.6):\n",
    "    return np.mean(data) - accepted_mean\n",
    "diff = calc_diff(body_temp)\n",
    "print(diff)"
   ]
  },
  {
   "cell_type": "code",
   "execution_count": 83,
   "metadata": {},
   "outputs": [
    {
     "name": "stdout",
     "output_type": "stream",
     "text": [
      "0\n"
     ]
    }
   ],
   "source": [
    "#Compute p-value\n",
    "bs_replicates = draw_bs_reps(wunder_shifted, calc_diff, 100000)\n",
    "p_value = np.sum(bs_replicates <= diff)/100000\n",
    "print(p_value)"
   ]
  },
  {
   "cell_type": "markdown",
   "metadata": {},
   "source": [
    "*It is very unlikely that the true mean of the data is 98.6, given that the p-value is very small. So small that running the test 100,000 does not give a result.*"
   ]
  },
  {
   "cell_type": "markdown",
   "metadata": {},
   "source": [
    "**Frequentist Statistical Testing:** \n",
    "\n",
    "*I will use a one sample test because I am comparing the data set to one value. Given that the sample size is over 30, which is large enought to apply the centra limit theorem. For this, a z-statistic is appropriate. A z-statistic assumes the distribution is normal, which we have a .75 probability that it is.*\n"
   ]
  },
  {
   "cell_type": "markdown",
   "metadata": {},
   "source": [
    "Using a Z Test: for alpha = 0.05 if z> 1.96, reject Null, if z<-1.96, reject Null"
   ]
  },
  {
   "cell_type": "code",
   "execution_count": 155,
   "metadata": {},
   "outputs": [
    {
     "name": "stdout",
     "output_type": "stream",
     "text": [
      "The Null Hypothesis is Rejected.\n",
      "The zscore is:-5.4759252020785585\n",
      "The p value is: 4.3523151658713056e-08\n"
     ]
    }
   ],
   "source": [
    "def zscore(data1, data2):\n",
    "    mean1 = np.mean(data1)\n",
    "    mean2 = np.mean(data2)\n",
    "    std = np.std(data1)\n",
    "    n = len(data1)\n",
    "    z = (mean1 - mean2)/(std/np.sqrt(n))\n",
    "    \n",
    "    p_value = stats.norm.cdf(z)*2\n",
    "    return z, p_value\n",
    "\n",
    "z, p = zscore(body_temp, 98.6)\n",
    "\n",
    "if z > 1.96 or z < -1.96:\n",
    "    print(\"The Null Hypothesis is Rejected.\")\n",
    "else:\n",
    "    print(\"We do not reject the Null Hypothesis.\")\n",
    "print(\"The zscore is:\" +str(z))\n",
    "print(\"The p value is: \"+ str(p))"
   ]
  },
  {
   "cell_type": "code",
   "execution_count": 137,
   "metadata": {},
   "outputs": [
    {
     "data": {
      "text/plain": [
       "Ttest_1sampResult(statistic=-5.4548232923645195, pvalue=2.4106320415561276e-07)"
      ]
     },
     "execution_count": 137,
     "metadata": {},
     "output_type": "execute_result"
    }
   ],
   "source": [
    "#calculate T-test for the mean of one group of scores\n",
    "stats.ttest_1samp(body_temp, 98.6)"
   ]
  },
  {
   "cell_type": "markdown",
   "metadata": {},
   "source": [
    "*The t-statistic is only very slightly smaller than the z-statistic. This is because wehen a sample size is greater than 30, t-statistics and z-statistics will give similar results.*"
   ]
  },
  {
   "cell_type": "markdown",
   "metadata": {},
   "source": [
    "## 4.  Draw a small sample of size 10 from the data and repeat both frequentist tests. \n",
    "\n",
    " * Which one is the correct one to use? \n",
    " * What do you notice? What does this tell you about the difference in application of the $t$ and $z$ statistic?\n",
    " "
   ]
  },
  {
   "cell_type": "markdown",
   "metadata": {},
   "source": [
    "*In this case, it is appropriate to use a t-test, since the sample size is < 30. Both cases do not reject the null hypothesis. The smaller sample size is more similar to the hypothesized mean of 98.6 degrees F, and the t and z statistic again produce similar results.*"
   ]
  },
  {
   "cell_type": "code",
   "execution_count": 160,
   "metadata": {},
   "outputs": [
    {
     "name": "stdout",
     "output_type": "stream",
     "text": [
      "The Null Hypothesis cannot be rejected\n",
      "t=-0.8472610750850469\n",
      "p=0.41880949712972937\n"
     ]
    }
   ],
   "source": [
    "#calculating t statistic\n",
    "sample10 = np.random.choice(body_temp, 10)\n",
    "t_score, p = stats.ttest_1samp(sample10, 98.6)\n",
    "if p <= alpha:\n",
    "    print(\"The Null Hypothesis can be rejected\")\n",
    "else:\n",
    "    print(\"The Null Hypothesis cannot be rejected\")\n",
    "\n",
    "print(\"t=\" + str(t_score))\n",
    "print(\"p=\"+str(p))"
   ]
  },
  {
   "cell_type": "code",
   "execution_count": 161,
   "metadata": {},
   "outputs": [
    {
     "name": "stdout",
     "output_type": "stream",
     "text": [
      "We do not reject the Null Hypothesis.\n",
      "zscore = -0.8930915900238959\n",
      "p = 0.3718081263242742\n"
     ]
    }
   ],
   "source": [
    "#calculating z statistic\n",
    "z, p = zscore(sample10, 98.6)\n",
    "if z > 1.96 or z < -1.96:\n",
    "    print(\"The Null Hypothesis is Rejected.\")\n",
    "else:\n",
    "    print(\"We do not reject the Null Hypothesis.\")\n",
    "    \n",
    "print(\"zscore = \" +str(z))\n",
    "print(\"p = \"+ str(p))"
   ]
  },
  {
   "cell_type": "markdown",
   "metadata": {},
   "source": [
    "## 5. At what temperature should we consider someone's temperature to be \"abnormal\"?\n",
    " * As in the previous example, try calculating everything using the boostrap approach, as well as the frequentist approach.\n",
    " *  Start by computing the margin of error and confidence interval. When calculating the confidence interval, keep in mind that you should use the appropriate formula for one draw, and not N draws.\n"
   ]
  },
  {
   "cell_type": "markdown",
   "metadata": {},
   "source": [
    "### Confidence Interval\n",
    "Using a 95% confidence interval, the critical zscore would be 1.96.  "
   ]
  },
  {
   "cell_type": "code",
   "execution_count": 180,
   "metadata": {},
   "outputs": [
    {
     "name": "stdout",
     "output_type": "stream",
     "text": [
      "A normal temperature, with 95% confidence, is between 98.12384615384616 and 98.3753846153846 degrees F.\n"
     ]
    }
   ],
   "source": [
    "# Bootstrap confidence interval\n",
    "bs_replicates_mean = draw_bs_reps(body_temp, np.mean, 10000)\n",
    "low, high = np.percentile(bs_replicates_mean, [2.5,97.5])\n",
    "print(\"A normal temperature, with 95% confidence, is between \" +str(low)+ \" and \" +str(high)+\" degrees F.\")"
   ]
  },
  {
   "cell_type": "code",
   "execution_count": 181,
   "metadata": {},
   "outputs": [
    {
     "name": "stdout",
     "output_type": "stream",
     "text": [
      "Margin of error is calculated to be 0.12555096480257902\n",
      "A normal temperature, with 95% confidence, is between 98.12367980442816 and 98.37478173403333 degrees F.\n"
     ]
    }
   ],
   "source": [
    "#margin of error with frequentist\n",
    "std = np.std(body_temp)\n",
    "n = len(body_temp)\n",
    "mean = np.mean(body_temp)\n",
    "\n",
    "moe = (1.96 * std )/ np.sqrt(n)\n",
    "print(\"Margin of error is calculated to be \" + str(moe))\n",
    "upper = moe + mean\n",
    "lower = mean - moe\n",
    "\n",
    "print (\"A normal temperature, with 95% confidence, is between \" +str(lower)+ \" and \" +str(upper)+\" degrees F.\")"
   ]
  },
  {
   "cell_type": "markdown",
   "metadata": {},
   "source": [
    "## 6. Is there a significant difference between males and females in normal temperature?\n",
    "* What testing approach did you use and why?\n",
    "* Write a story with your conclusion in the context of the original problem.\n"
   ]
  },
  {
   "cell_type": "markdown",
   "metadata": {},
   "source": [
    "### Comparing temperature between Genders\n",
    "H0: Female and Male temperatures have identical varience"
   ]
  },
  {
   "cell_type": "code",
   "execution_count": 188,
   "metadata": {},
   "outputs": [],
   "source": [
    "female_temp = temp_df.temperature[temp_df.gender == 'F'].values\n",
    "male_temp = temp_df.temperature[temp_df.gender =='M'].values"
   ]
  },
  {
   "cell_type": "code",
   "execution_count": 191,
   "metadata": {},
   "outputs": [
    {
     "name": "stdout",
     "output_type": "stream",
     "text": [
      "The Null Hypothesis can be rejected\n",
      "t=2.2854345381656103\n",
      "p=0.02393188312239561\n"
     ]
    }
   ],
   "source": [
    "t_score, p = stats.ttest_ind(female_temp, male_temp)\n",
    "if p <= alpha:\n",
    "    print(\"The Null Hypothesis can be rejected\")\n",
    "else:\n",
    "    print(\"The Null Hypothesis cannot be rejected\")\n",
    "\n",
    "print(\"t=\" + str(t_score))\n",
    "print(\"p=\"+str(p))\n"
   ]
  },
  {
   "cell_type": "markdown",
   "metadata": {},
   "source": [
    "*For this test, I used a two sided, independent t-test. I chose this approach because the two populations are independant of each other. I used the frequentist method over a bootstrap method, because I found it faster and more convienient since scipy has that function built in.*"
   ]
  },
  {
   "cell_type": "code",
   "execution_count": null,
   "metadata": {},
   "outputs": [],
   "source": []
  },
  {
   "cell_type": "code",
   "execution_count": null,
   "metadata": {},
   "outputs": [],
   "source": []
  },
  {
   "cell_type": "code",
   "execution_count": 2,
   "metadata": {
    "collapsed": true
   },
   "outputs": [],
   "source": []
  },
  {
   "cell_type": "code",
   "execution_count": 3,
   "metadata": {
    "collapsed": true
   },
   "outputs": [],
   "source": []
  }
 ],
 "metadata": {
  "kernelspec": {
   "display_name": "Python 2",
   "language": "python",
   "name": "python2"
  },
  "language_info": {
   "codemirror_mode": {
    "name": "ipython",
    "version": 2
   },
   "file_extension": ".py",
   "mimetype": "text/x-python",
   "name": "python",
   "nbconvert_exporter": "python",
   "pygments_lexer": "ipython2",
   "version": "2.7.14"
  }
 },
 "nbformat": 4,
 "nbformat_minor": 1
}
