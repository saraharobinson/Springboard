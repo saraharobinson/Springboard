{
 "cells": [
  {
   "cell_type": "code",
   "execution_count": 1,
   "metadata": {},
   "outputs": [
    {
     "name": "stdout",
     "output_type": "stream",
     "text": [
      "   YEAR  DATANUM  SERIAL  HHWT  STATEFIP  COUNTYFIPS  CITY  GQ  PERNUM  PERWT  \\\n",
      "0  2012        1       1    74         1           0     0   1       1     73   \n",
      "1  2012        1       1    74         1           0     0   1       2     45   \n",
      "2  2012        1       1    74         1           0     0   1       3     90   \n",
      "\n",
      "    OCC   IND  INCTOT  POVERTY  \n",
      "0  5700  8090   25000      259  \n",
      "1  8140  3570   35000      259  \n",
      "2     0     0       0      259  \n"
     ]
    }
   ],
   "source": [
    "import pandas as pd\n",
    "acs_df = pd.read_csv('../capstone_data/ACS_Data.csv')\n",
    "print(acs_df[:3])"
   ]
  },
  {
   "cell_type": "code",
   "execution_count": 2,
   "metadata": {},
   "outputs": [
    {
     "data": {
      "text/plain": [
       "Index([u'YEAR', u'DATANUM', u'SERIAL', u'HHWT', u'STATEFIP', u'COUNTYFIPS',\n",
       "       u'CITY', u'GQ', u'PERNUM', u'PERWT', u'OCC', u'IND', u'INCTOT',\n",
       "       u'POVERTY'],\n",
       "      dtype='object')"
      ]
     },
     "execution_count": 2,
     "metadata": {},
     "output_type": "execute_result"
    }
   ],
   "source": [
    "acs_df.columns"
   ]
  },
  {
   "cell_type": "code",
   "execution_count": 3,
   "metadata": {},
   "outputs": [
    {
     "data": {
      "text/html": [
       "<div>\n",
       "<style scoped>\n",
       "    .dataframe tbody tr th:only-of-type {\n",
       "        vertical-align: middle;\n",
       "    }\n",
       "\n",
       "    .dataframe tbody tr th {\n",
       "        vertical-align: top;\n",
       "    }\n",
       "\n",
       "    .dataframe thead th {\n",
       "        text-align: right;\n",
       "    }\n",
       "</style>\n",
       "<table border=\"1\" class=\"dataframe\">\n",
       "  <thead>\n",
       "    <tr style=\"text-align: right;\">\n",
       "      <th></th>\n",
       "      <th>YEAR</th>\n",
       "      <th>DATANUM</th>\n",
       "      <th>SERIAL</th>\n",
       "      <th>HHWT</th>\n",
       "      <th>STATEFIP</th>\n",
       "      <th>COUNTYFIPS</th>\n",
       "      <th>CITY</th>\n",
       "      <th>GQ</th>\n",
       "      <th>PERNUM</th>\n",
       "      <th>PERWT</th>\n",
       "      <th>OCC</th>\n",
       "      <th>IND</th>\n",
       "      <th>INCTOT</th>\n",
       "      <th>POVERTY</th>\n",
       "    </tr>\n",
       "  </thead>\n",
       "  <tbody>\n",
       "    <tr>\n",
       "      <th>0</th>\n",
       "      <td>2012</td>\n",
       "      <td>1</td>\n",
       "      <td>1</td>\n",
       "      <td>74</td>\n",
       "      <td>1</td>\n",
       "      <td>0</td>\n",
       "      <td>0</td>\n",
       "      <td>1</td>\n",
       "      <td>1</td>\n",
       "      <td>73</td>\n",
       "      <td>5700</td>\n",
       "      <td>8090</td>\n",
       "      <td>25000</td>\n",
       "      <td>259</td>\n",
       "    </tr>\n",
       "    <tr>\n",
       "      <th>1</th>\n",
       "      <td>2012</td>\n",
       "      <td>1</td>\n",
       "      <td>1</td>\n",
       "      <td>74</td>\n",
       "      <td>1</td>\n",
       "      <td>0</td>\n",
       "      <td>0</td>\n",
       "      <td>1</td>\n",
       "      <td>2</td>\n",
       "      <td>45</td>\n",
       "      <td>8140</td>\n",
       "      <td>3570</td>\n",
       "      <td>35000</td>\n",
       "      <td>259</td>\n",
       "    </tr>\n",
       "    <tr>\n",
       "      <th>2</th>\n",
       "      <td>2012</td>\n",
       "      <td>1</td>\n",
       "      <td>1</td>\n",
       "      <td>74</td>\n",
       "      <td>1</td>\n",
       "      <td>0</td>\n",
       "      <td>0</td>\n",
       "      <td>1</td>\n",
       "      <td>3</td>\n",
       "      <td>90</td>\n",
       "      <td>0</td>\n",
       "      <td>0</td>\n",
       "      <td>0</td>\n",
       "      <td>259</td>\n",
       "    </tr>\n",
       "  </tbody>\n",
       "</table>\n",
       "</div>"
      ],
      "text/plain": [
       "   YEAR  DATANUM  SERIAL  HHWT  STATEFIP  COUNTYFIPS  CITY  GQ  PERNUM  PERWT  \\\n",
       "0  2012        1       1    74         1           0     0   1       1     73   \n",
       "1  2012        1       1    74         1           0     0   1       2     45   \n",
       "2  2012        1       1    74         1           0     0   1       3     90   \n",
       "\n",
       "    OCC   IND  INCTOT  POVERTY  \n",
       "0  5700  8090   25000      259  \n",
       "1  8140  3570   35000      259  \n",
       "2     0     0       0      259  "
      ]
     },
     "execution_count": 3,
     "metadata": {},
     "output_type": "execute_result"
    }
   ],
   "source": [
    "acs_df.head(3)"
   ]
  },
  {
   "cell_type": "markdown",
   "metadata": {},
   "source": [
    "## gdp by industry"
   ]
  },
  {
   "cell_type": "code",
   "execution_count": 1,
   "metadata": {},
   "outputs": [
    {
     "ename": "NameError",
     "evalue": "name 'pd' is not defined",
     "output_type": "error",
     "traceback": [
      "\u001b[1;31m\u001b[0m",
      "\u001b[1;31mNameError\u001b[0mTraceback (most recent call last)",
      "\u001b[1;32m<ipython-input-1-3cae84086468>\u001b[0m in \u001b[0;36m<module>\u001b[1;34m()\u001b[0m\n\u001b[1;32m----> 1\u001b[1;33m \u001b[0morig_gdp_df\u001b[0m \u001b[1;33m=\u001b[0m \u001b[0mpd\u001b[0m\u001b[1;33m.\u001b[0m\u001b[0mread_csv\u001b[0m\u001b[1;33m(\u001b[0m\u001b[1;34m'../capstone_data/allgmp.csv'\u001b[0m\u001b[1;33m,\u001b[0m \u001b[0mdtype\u001b[0m \u001b[1;33m=\u001b[0m \u001b[0mstr\u001b[0m\u001b[1;33m)\u001b[0m\u001b[1;33m\u001b[0m\u001b[0m\n\u001b[0m\u001b[0;32m      2\u001b[0m \u001b[1;33m\u001b[0m\u001b[0m\n\u001b[0;32m      3\u001b[0m \u001b[1;31m# to add years as column\u001b[0m\u001b[1;33m\u001b[0m\u001b[1;33m\u001b[0m\u001b[0m\n\u001b[0;32m      4\u001b[0m \u001b[0myears\u001b[0m \u001b[1;33m=\u001b[0m \u001b[0mlist\u001b[0m\u001b[1;33m(\u001b[0m\u001b[0morig_gdp_df\u001b[0m\u001b[1;33m.\u001b[0m\u001b[0mcolumns\u001b[0m\u001b[1;33m[\u001b[0m\u001b[1;36m8\u001b[0m\u001b[1;33m:\u001b[0m\u001b[1;33m]\u001b[0m\u001b[1;33m)\u001b[0m\u001b[1;33m\u001b[0m\u001b[0m\n\u001b[0;32m      5\u001b[0m \u001b[0mkeep\u001b[0m \u001b[1;33m=\u001b[0m \u001b[0mlist\u001b[0m\u001b[1;33m(\u001b[0m\u001b[0morig_gdp_df\u001b[0m\u001b[1;33m.\u001b[0m\u001b[0mcolumns\u001b[0m\u001b[1;33m[\u001b[0m\u001b[1;36m0\u001b[0m\u001b[1;33m:\u001b[0m\u001b[1;36m8\u001b[0m\u001b[1;33m]\u001b[0m\u001b[1;33m)\u001b[0m\u001b[1;33m\u001b[0m\u001b[0m\n",
      "\u001b[1;31mNameError\u001b[0m: name 'pd' is not defined"
     ]
    }
   ],
   "source": [
    "orig_gdp_df = pd.read_csv('../capstone_data/allgmp.csv', dtype = str)\n",
    "\n",
    "# to add years as column \n",
    "years = list(orig_gdp_df.columns[8:])\n",
    "keep = list(orig_gdp_df.columns[0:8])\n",
    "gdp_pvtdf = pd.melt(orig_gdp_df, id_vars = keep , value_vars = years, var_name = 'Year', value_name = 'GDP by Metro Area')\n",
    "\n",
    "\n",
    "#to see how many rows have na values\n",
    "print(len(gdp_pvtdf), len(gdp_pvtdf.dropna(thresh = 8)))\n",
    "\n",
    "\n",
    "#to see how many regions have na values\n",
    "print(len(gdp_pvtdf['Region'].dropna()))\n",
    "print(gdp_pvtdf['Region'].nunique())\n",
    "\n",
    "#drop region column\n",
    "gdp_dfmin = gdp_pvtdf.drop(columns = ['Region', 'IndustryClassification'])\n",
    "\n",
    "#to see if 'ComponentName' column is necessary\n",
    "componentname = gdp_dfmin['ComponentName']\n",
    "print(componentname.nunique())\n",
    "gdp_dfmin['ComponentName'].unique()\n",
    "gdp_dfmin['ComponentId'].unique()\n",
    "\n",
    "#convert number columns to float\n",
    "\n",
    "gdp_dfmin['GeoFIPS'] = pd.to_numeric(gdp_dfmin['GeoFIPS'], errors = 'coerce')\n",
    "gdp_dfmin['GDP by Metro Area'] = pd.to_numeric(gdp_dfmin['GDP by Metro Area'], errors = 'coerce')\n",
    "\n",
    "\n",
    "#to make a df of only nominal gdp and change header\n",
    "nominalgdp_df = gdp_dfmin[gdp_dfmin['ComponentId']== '200']\n",
    "nominalgdp_df = nominalgdp_df.rename(columns = {'GDP by Metro Area':'Nominal GDP'})\n",
    "nominalgdp_df = nominalgdp_df.drop(columns = ['ComponentId', 'ComponentName'])\n",
    "nominalgdp_df.head()\n",
    "\n",
    "#to make a df of only real gdp and change header\n",
    "realgdp_df = gdp_dfmin[gdp_dfmin['ComponentId']== '900']\n",
    "realgdp_df = realgdp_df.drop(columns = ['ComponentId', 'ComponentName'])\n",
    "realgdp_df = realgdp_df.rename(columns = {'GDP by Metro Area':'Real GDP'})\n",
    "realgdp_df.head()\n",
    "\n",
    "#make a df of industry total real gdp\n",
    "realgdp_df1 = realgdp_df[realgdp_df['IndustryId']=='1']\n",
    "realgdp_df1 = realgdp_df1.drop(columns = ['GeoName','IndustryId', 'Description'])\n",
    "realgdp_df1.head()\n",
    "\n",
    "#make a dictionary of industry total\n",
    "my_dict = {}\n",
    "for index, row in realgdp_df1.iterrows():\n",
    "    dict2 = {(row['GeoFIPS'], row['Year']): row['Real GDP']}\n",
    "    my_dict.update(dict2)\n",
    "\n",
    "\n",
    "#define function that will return percent of total gdp for that year and zip(using dict)\n",
    "def gdp_percent(row):\n",
    "    return row['Real GDP']/my_dict[(row['GeoFIPS'], row['Year'])]\n",
    "    \n",
    "#use function to create column 'Percent GDP'\n",
    "realgdp_df['Percent GDP']= realgdp_df.apply(lambda row: gdp_percent(row), axis =1)\n",
    "\n",
    "#set index as year, geofips, and industry description\n",
    "ind_gdp = realgdp_df.set_index(['Year','GeoFIPS', 'IndustryId'])\n",
    "\n",
    "\n",
    "#drop unnessary columns and unstack by industry id\n",
    "ind_gdp = ind_gdp.drop(columns = ['GeoName', 'Description'])\n",
    "\n",
    "ind_gdp = ind_gdp.unstack(-1)\n",
    "\n",
    "#join multilevel columns by '_'\n",
    "ind_gdp.columns = ['_'.join(col).strip() for col in ind_gdp.columns.values]\n",
    "\n",
    "#drop US value\n",
    "ind_gdp = ind_gdp.drop(index = 998.0, level = 1)\n",
    "\n",
    "ind_gdp = ind_gdp.reset_index()\n",
    "\n",
    "#convert GeoFIPS to string and mame sure all have a len()==5\n",
    "\n",
    "ind_gdp['GeoFIPS'] = ind_gdp['GeoFIPS'].astype(str)\n",
    "for code in ind_gdp['GeoFIPS']:\n",
    "    if len(code)<5:\n",
    "        print(code)\n",
    "\n"
   ]
  }
 ],
 "metadata": {
  "kernelspec": {
   "display_name": "Python 2",
   "language": "python",
   "name": "python2"
  },
  "language_info": {
   "codemirror_mode": {
    "name": "ipython",
    "version": 2
   },
   "file_extension": ".py",
   "mimetype": "text/x-python",
   "name": "python",
   "nbconvert_exporter": "python",
   "pygments_lexer": "ipython2",
   "version": "2.7.14"
  }
 },
 "nbformat": 4,
 "nbformat_minor": 2
}
